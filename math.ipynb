{
 "cells": [
  {
   "cell_type": "markdown",
   "metadata": {},
   "source": [
    "Solve linear system via Reduced Row Echelon Form (RREF) and back substitution:\n",
    "\n",
    "x+2y+z = 2;   \n",
    "-x-y+2 = 3;   \n",
    "2x+3y  = 0   \n"
   ]
  },
  {
   "cell_type": "code",
   "execution_count": 77,
   "metadata": {},
   "outputs": [
    {
     "data": {
      "text/plain": [
       "array([-3,  2,  1])"
      ]
     },
     "execution_count": 77,
     "metadata": {},
     "output_type": "execute_result"
    }
   ],
   "source": [
    "import sympy as sp\n",
    "import numpy as np\n",
    "#  matrix itself: coeffs + right vector with constants are in the same matrix\n",
    "A = sp.Matrix([\n",
    "    [1, 2, 1, 2],\n",
    "    [-1, -1, 2, 3],\n",
    "    [2, 3, 0, 0]])\n",
    "\n",
    "#saving triangle matrix (rref)\n",
    "rref_result, pivot_columns = A.rref()\n",
    "#prepare for numpy processing\n",
    "rref_numeric = np.array(rref_result).astype(float)\n",
    "\n",
    "#separate last column, we have matrix w coeffs and matrix w constants (right side of equation)\n",
    "B = rref_numeric[:, :-1]\n",
    "b = rref_numeric[:, -1]\n",
    "\n",
    "#using numpy function to apply back substitution and to find variables' values\n",
    "solution = np.linalg.solve(B, b).astype(int)\n",
    "solution\n"
   ]
  },
  {
   "cell_type": "markdown",
   "metadata": {},
   "source": [
    "Solve linear system via Row Echelon Form (REF) and back substitution:\n",
    "\n",
    "x+2y+z = 2;   \n",
    "-x-y+2 = 3;   \n",
    "2x+3y  = 0   \n"
   ]
  },
  {
   "cell_type": "code",
   "execution_count": 78,
   "metadata": {},
   "outputs": [
    {
     "data": {
      "text/plain": [
       "array([-3,  2,  1])"
      ]
     },
     "execution_count": 78,
     "metadata": {},
     "output_type": "execute_result"
    }
   ],
   "source": [
    "import sympy as sp\n",
    "import numpy as np\n",
    "#  matrix itself\n",
    "A = sp.Matrix([\n",
    "    [1, 2, 1, 2],\n",
    "    [-1, -1, 2, 3],\n",
    "    [2, 3, 0, 0]])\n",
    "\n",
    "#saving triangle matrix\n",
    "ref_result = A.echelon_form()\n",
    "#prepare for numpy processing\n",
    "ref_numeric = np.array(ref_result).astype(float)\n",
    "\n",
    "#separate last column, we have matrix w coeffs and matrix w constants (right side of equation)\n",
    "B = ref_numeric[:, :-1]\n",
    "b = ref_numeric[:, -1]\n",
    "\n",
    "#using numpy function to apply back substitution and to find variables' values\n",
    "solution = np.linalg.solve(B, b).astype(int)\n",
    "solution\n",
    "\n"
   ]
  },
  {
   "cell_type": "markdown",
   "metadata": {},
   "source": [
    "For the following linear system, write its augmented matrix, and then perform Elementary Row Operations to obtain its Reduced Row Echelon Form (RREF)\n",
    "\n",
    "x+2y+z+a = 7;   \n",
    "x+2y+2z-a= 12;   \n",
    "2x+4y+6a = 4   \n"
   ]
  },
  {
   "cell_type": "code",
   "execution_count": 79,
   "metadata": {},
   "outputs": [
    {
     "data": {
      "text/latex": [
       "$\\displaystyle \\left[\\begin{matrix}1 & 2 & 0 & 3 & 2\\\\0 & 0 & 1 & -2 & 5\\\\0 & 0 & 0 & 0 & 0\\end{matrix}\\right]$"
      ],
      "text/plain": [
       "Matrix([\n",
       "[1, 2, 0,  3, 2],\n",
       "[0, 0, 1, -2, 5],\n",
       "[0, 0, 0,  0, 0]])"
      ]
     },
     "execution_count": 79,
     "metadata": {},
     "output_type": "execute_result"
    }
   ],
   "source": [
    "import sympy as sp\n",
    "import numpy as np\n",
    "#  matrix itself\n",
    "D = sp.Matrix([\n",
    "    [1, 2, 1, 1, 7],\n",
    "    [1, 2, 2, -1, 12],\n",
    "    [2, 4, 0, 6, 4]])\n",
    "\n",
    "#saving triangle matrix\n",
    "rref_result, pivot_columns = D.rref()\n",
    "rref_result\n"
   ]
  },
  {
   "cell_type": "markdown",
   "metadata": {},
   "source": [
    "Operations with matrices:   \n",
    "A+B,   \n",
    "A-B,   \n",
    "B+C,   \n",
    "B-C   "
   ]
  },
  {
   "cell_type": "code",
   "execution_count": 80,
   "metadata": {},
   "outputs": [],
   "source": [
    "# Matrices\n",
    "A = np.array([[1, 2, 3],[4, 5, 6]])\n",
    "B = np.array([[2, 1, 3],[9, 7, 6]])\n",
    "C = np.array([[2, 1],[3, 4]])\n"
   ]
  },
  {
   "cell_type": "code",
   "execution_count": 81,
   "metadata": {},
   "outputs": [
    {
     "data": {
      "text/plain": [
       "array([[ 3,  3,  6],\n",
       "       [13, 12, 12]])"
      ]
     },
     "execution_count": 81,
     "metadata": {},
     "output_type": "execute_result"
    }
   ],
   "source": [
    "#A+B\n",
    "R = A+B\n",
    "R"
   ]
  },
  {
   "cell_type": "code",
   "execution_count": 82,
   "metadata": {},
   "outputs": [
    {
     "data": {
      "text/plain": [
       "array([[-1,  1,  0],\n",
       "       [-5, -2,  0]])"
      ]
     },
     "execution_count": 82,
     "metadata": {},
     "output_type": "execute_result"
    }
   ],
   "source": [
    "R = 0\n",
    "#A-B\n",
    "R = A-B\n",
    "R\n",
    "\n"
   ]
  },
  {
   "cell_type": "code",
   "execution_count": 83,
   "metadata": {},
   "outputs": [
    {
     "name": "stdout",
     "output_type": "stream",
     "text": [
      "I can not calculate, wrong dimensions\n"
     ]
    }
   ],
   "source": [
    "#B-C\n",
    "def matrix_minus_matrix(B, C):\n",
    "    R = 0\n",
    "    if B.shape == C.shape:\n",
    "        R = B-C\n",
    "        return R\n",
    "    else:\n",
    "        print('I can not calculate, wrong dimensions')\n",
    "\n",
    "matrix_minus_matrix(B,C)"
   ]
  },
  {
   "cell_type": "code",
   "execution_count": 84,
   "metadata": {},
   "outputs": [
    {
     "name": "stdout",
     "output_type": "stream",
     "text": [
      "I can not calculate, wrong dimensions\n"
     ]
    }
   ],
   "source": [
    "#B+C\n",
    "def matrix_plus_matrix(B, C):\n",
    "    R = 0\n",
    "    if B.shape == C.shape:\n",
    "        R = B+C\n",
    "        return R\n",
    "    else:\n",
    "        print('I can not calculate, wrong dimensions')\n",
    "\n",
    "matrix_plus_matrix(B,C)"
   ]
  },
  {
   "cell_type": "markdown",
   "metadata": {},
   "source": [
    "For matrices A and B perform:    \n",
    "(i) `2A`   \n",
    "(ii) `A + B`   \n",
    "(iii) `2A - 3B`   \n",
    "(iv) `(2A)ᵀ - (3B)ᵀ`   \n",
    "(v) `BA`   \n"
   ]
  },
  {
   "cell_type": "code",
   "execution_count": 85,
   "metadata": {},
   "outputs": [],
   "source": [
    "A = np.array([[3, 1, 4],[-2, 0, 1],[1, 2, 2]])\n",
    "B = np.array([[1, 0, 2],[-3, 1, 1], [2, -4, 1]])"
   ]
  },
  {
   "cell_type": "code",
   "execution_count": 86,
   "metadata": {},
   "outputs": [
    {
     "name": "stdout",
     "output_type": "stream",
     "text": [
      "Result for 2A:\n",
      "[[ 6  2  8]\n",
      " [-4  0  2]\n",
      " [ 2  4  4]]\n",
      "\n",
      "Result for A + B:\n",
      "[[ 4  1  6]\n",
      " [-5  1  2]\n",
      " [ 3 -2  3]]\n",
      "\n",
      "Result for 2A - 3B:\n",
      "[[ 3  2  2]\n",
      " [ 5 -3 -1]\n",
      " [-4 16  1]]\n",
      "\n",
      "Result for (2A)ᵀ - (3B)ᵀ:\n",
      "[[ 3  5 -4]\n",
      " [ 2 -3 16]\n",
      " [ 2 -1  1]]\n",
      "\n",
      "Result for BA:\n",
      "[[  5   5   8]\n",
      " [-10  -1  -9]\n",
      " [ 15   4   6]]\n"
     ]
    }
   ],
   "source": [
    "def perform_matrix_operation(A, B, operation):\n",
    "    \"\"\"\n",
    "    Perform matrix operations based on the specified operation code.\n",
    "\n",
    "    Parameters:\n",
    "    - A (numpy.ndarray): First matrix.\n",
    "    - B (numpy.ndarray): Second matrix.\n",
    "    - operation (int): Operation code (1 to 5).\n",
    "\n",
    "    Returns:\n",
    "    - numpy.ndarray or str: Result of the matrix operation.\n",
    "    \"\"\"\n",
    "    match operation:\n",
    "        case 1:\n",
    "            return 2 * A\n",
    "        case 2:\n",
    "            return A + B\n",
    "        case 3:\n",
    "            return 2 * A - 3 * B\n",
    "        case 4:\n",
    "            return (2 * A).T - (3 * B).T\n",
    "        case 5:\n",
    "            return np.dot(B, A)\n",
    "        case _:\n",
    "            return \"I can not caclulate, check matrices, probably the problem is in their dimensions\"\n",
    "\n",
    "result_1 = perform_matrix_operation(A, None, 1)\n",
    "result_2 = perform_matrix_operation(A, B, 2)\n",
    "result_3 = perform_matrix_operation(A, B, 3)\n",
    "result_4 = perform_matrix_operation(A, B, 4)\n",
    "result_5 = perform_matrix_operation(A, B, 5)\n",
    "\n",
    "# Print the results\n",
    "print(\"Result for 2A:\")\n",
    "print(result_1)\n",
    "\n",
    "print(\"\\nResult for A + B:\")\n",
    "print(result_2)\n",
    "\n",
    "print(\"\\nResult for 2A - 3B:\")\n",
    "print(result_3)\n",
    "\n",
    "print(\"\\nResult for (2A)ᵀ - (3B)ᵀ:\")\n",
    "print(result_4)\n",
    "\n",
    "print(\"\\nResult for BA:\")\n",
    "print(result_5)\n"
   ]
  },
  {
   "cell_type": "markdown",
   "metadata": {},
   "source": [
    "Compute the determinants to check whether the following matrices are singular or nonsingular. \n"
   ]
  },
  {
   "cell_type": "code",
   "execution_count": 87,
   "metadata": {},
   "outputs": [],
   "source": [
    "A = np.array([[1, -1, 3],[1, 3, -3],[5, 3, 3]])\n",
    "B = np.array([[1, 0],[1, 0]])\n",
    "C = np.array([[1, 0],[0, 0]])\n",
    "D = np.array([[1, 3],[5, 7]])\n",
    "E = np.array([[4, 2],[8, 4]])\n",
    "F = np.array([[5, -2],[10, 4]])"
   ]
  },
  {
   "cell_type": "code",
   "execution_count": 107,
   "metadata": {},
   "outputs": [
    {
     "name": "stdout",
     "output_type": "stream",
     "text": [
      "Determinant of A is 5e-15 and matrix is non-singular\n",
      "Determinant of B is 0.0 and matrix is singular\n",
      "Determinant of C is 0.0 and matrix is singular\n",
      "Determinant of D is -7.999999999999998 and matrix is non-singular\n",
      "Determinant of E is 0.0 and matrix is singular\n",
      "Determinant of F is 40.000000000000014 and matrix is non-singular\n"
     ]
    }
   ],
   "source": [
    "def matrix_det(M):\n",
    "    return round(np.linalg.det(M), 15)\n",
    "\n",
    "# dictionary with matrices names as keys and thei determinants as values\n",
    "matrices = {\"A\": A, \"B\": B, \"C\": C, \"D\": D, \"E\": E, \"F\": F}\n",
    "\n",
    "results = {}\n",
    "#running the function for each matrix and saving determinant as value of key (matrix's name)\n",
    "for matrix_name, matrix in matrices.items():\n",
    "    determinant = matrix_det(matrix)\n",
    "    results[matrix_name] = determinant\n",
    "\n",
    "# Print the results\n",
    "for matrix_name, determinant in results.items():\n",
    "    if determinant != 0:\n",
    "        print(f\"Determinant of {matrix_name} is {determinant} and matrix is non-singular\")\n",
    "    else:\n",
    "        print(f\"Determinant of {matrix_name} is {determinant} and matrix is singular\")\n"
   ]
  },
  {
   "cell_type": "markdown",
   "metadata": {},
   "source": [
    "Consider the vectors x1 = (8, 6).T and x2 = (4, -1).T:   \n",
    "(a) Determine the length of each vector;   \n",
    "(b) Let x3 = x1 + x2. Determine the length of x3;       \n",
    "(c) Draw a graph illustrating how x3 can be constructed geometrically using x1 and x2   \n"
   ]
  },
  {
   "cell_type": "code",
   "execution_count": 135,
   "metadata": {},
   "outputs": [
    {
     "name": "stdout",
     "output_type": "stream",
     "text": [
      "Length of the the first vector: 10\n",
      "Length of the the second vector: 4\n"
     ]
    }
   ],
   "source": [
    "#a)\n",
    "v1 = np.array([8,6]).T\n",
    "v2 = np.array([4, -1]).T\n",
    "\n",
    "#let us calculate length of vectors\n",
    "length_v1 = round(np.linalg.norm(v1))\n",
    "length_v2 = round(np.linalg.norm(v2))\n",
    "\n",
    "# Print the result\n",
    "print(\"Length of the the first vector:\", length_v1)\n",
    "print(\"Length of the the second vector:\", length_v2)"
   ]
  },
  {
   "cell_type": "code",
   "execution_count": 132,
   "metadata": {},
   "outputs": [
    {
     "name": "stdout",
     "output_type": "stream",
     "text": [
      "Length of the the first vector: 13\n"
     ]
    }
   ],
   "source": [
    "#b)\n",
    "v3 = v1+v2\n",
    "length_v3 = round(np.linalg.norm(v3))\n",
    "\n",
    "# Print the result\n",
    "print(\"Length of the the first vector:\", length_v3)\n"
   ]
  },
  {
   "cell_type": "code",
   "execution_count": 136,
   "metadata": {},
   "outputs": [
    {
     "data": {
      "image/png": "[encoded data removed]",
      "text/plain": [
       "<Figure size 640x480 with 1 Axes>"
      ]
     },
     "metadata": {},
     "output_type": "display_data"
    }
   ],
   "source": [
    "#c)\n",
    "import matplotlib.pyplot as plt\n",
    "\n",
    "# Create a plot\n",
    "fig, ax = plt.subplots()\n",
    "\n",
    "# Plot vectors v1, v2, and v3\n",
    "ax.quiver(0, 0, v1[0], v1[1], angles='xy', scale_units='xy', scale=1, color='r', label='vector 1')\n",
    "ax.quiver(v1[0], v1[1], v2[0], v2[1], angles='xy', scale_units='xy', scale=1, color='b', label='vector 2')\n",
    "ax.quiver(0, 0, v3[0], v3[1], angles='xy', scale_units='xy', scale=1, color='g', label='vector 3')\n",
    "\n",
    "# Set plot limits\n",
    "ax.set_xlim(min(0, v1[0], v2[0], v3[0]) - 1, max(0, v1[0], v2[0], v3[0]) + 1)\n",
    "ax.set_ylim(min(0, v1[1], v2[1], v3[1]) - 1, max(0, v1[1], v2[1], v3[1]) + 1)\n",
    "\n",
    "# Add x-axis at y=0\n",
    "ax.axhline(0, color='black', linewidth=0.5)\n",
    "\n",
    "# Add y-axis at x=0\n",
    "ax.axvline(0, color='black', linewidth=0.5)\n",
    "\n",
    "# Add labels and legend\n",
    "ax.set_xlabel('X-axis')\n",
    "ax.set_ylabel('Y-axis')\n",
    "ax.legend(loc='lower right')\n",
    "\n",
    "# Show the plot\n",
    "plt.grid()\n",
    "plt.show()\n"
   ]
  },
  {
   "cell_type": "markdown",
   "metadata": {},
   "source": []
  },
  {
   "cell_type": "code",
   "execution_count": 139,
   "metadata": {},
   "outputs": [
    {
     "name": "stdout",
     "output_type": "stream",
     "text": [
      "The given vectors do not form a vector space.\n"
     ]
    }
   ],
   "source": [
    "import numpy as np\n",
    "\n",
    "# this function is a simplified check and does not cover all the axioms, i was lucky to catch discrepancy on this code\n",
    "def is_vector_space(vectors):\n",
    "    # Check closure under vector addition\n",
    "    sum_of_vectors = np.sum(vectors, axis=0)\n",
    "    if not np.all(np.isclose(sum_of_vectors, 0)):\n",
    "        return False\n",
    "    \n",
    "    # Check closure under scalar multiplication\n",
    "    scalar = np.random.rand()\n",
    "    scaled_vectors = scalar * vectors\n",
    "    if not np.all(np.isclose(scaled_vectors, 0)):\n",
    "        return False\n",
    "    \n",
    "    return True\n",
    "\n",
    "# define the list of vectors being explored\n",
    "vectors_example = v1, v2, v3\n",
    "\n",
    "if is_vector_space(vectors_example):\n",
    "    print(\"The given vectors form a vector space.\")\n",
    "else:\n",
    "    print(\"The given vectors do not form a vector space.\")\n"
   ]
  },
  {
   "cell_type": "markdown",
   "metadata": {},
   "source": [
    "Define null space ofr matrix: [[2, 1], [3, 2]]\n"
   ]
  },
  {
   "cell_type": "code",
   "execution_count": 156,
   "metadata": {},
   "outputs": [
    {
     "data": {
      "text/plain": [
       "[Matrix([\n",
       " [1],\n",
       " [1],\n",
       " [1]])]"
      ]
     },
     "execution_count": 156,
     "metadata": {},
     "output_type": "execute_result"
    }
   ],
   "source": [
    "# Define a matrix\n",
    "A = sp.Matrix([[1, 3, -4],\n",
    "              [2, -1, -1],\n",
    "              [-1, -3, 4]])\n",
    "\n",
    "#A_augmented = A.col_insert(3, sp.Matrix([[0],[0], [0]]))\n",
    "#A_augmented.rref()\n",
    "A.nullspace() # \n"
   ]
  }
 ],
 "metadata": {
  "kernelspec": {
   "display_name": "pt",
   "language": "python",
   "name": "python3"
  },
  "language_info": {
   "codemirror_mode": {
    "name": "ipython",
    "version": 3
   },
   "file_extension": ".py",
   "mimetype": "text/x-python",
   "name": "python",
   "nbconvert_exporter": "python",
   "pygments_lexer": "ipython3",
   "version": "3.11.5"
  }
 },
 "nbformat": 4,
 "nbformat_minor": 2
}
