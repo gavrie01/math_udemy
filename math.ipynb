{
 "cells": [
  {
   "cell_type": "markdown",
   "metadata": {},
   "source": [
    "Solve linear system via Reduced Row Echelon Form (RREF) and back substitution:\n",
    "\n",
    "x+2y+z = 2;   \n",
    "-x-y+2 = 3;   \n",
    "2x+3y  = 0   \n"
   ]
  },
  {
   "cell_type": "code",
   "execution_count": 1,
   "metadata": {},
   "outputs": [
    {
     "data": {
      "text/plain": [
       "array([-3,  2,  1])"
      ]
     },
     "execution_count": 1,
     "metadata": {},
     "output_type": "execute_result"
    }
   ],
   "source": [
    "import sympy as sp\n",
    "import numpy as np\n",
    "#  matrix itself: coeffs + right vector with constants are in the same matrix\n",
    "A = sp.Matrix([\n",
    "    [1, 2, 1, 2],\n",
    "    [-1, -1, 2, 3],\n",
    "    [2, 3, 0, 0]])\n",
    "\n",
    "#saving triangle matrix (rref)\n",
    "rref_result, pivot_columns = A.rref()\n",
    "#prepare for numpy processing\n",
    "rref_numeric = np.array(rref_result).astype(float)\n",
    "\n",
    "#separate last column, we have matrix w coeffs and matrix w constants (right side of equation)\n",
    "B = rref_numeric[:, :-1]\n",
    "b = rref_numeric[:, -1]\n",
    "\n",
    "#using numpy function to apply back substitution and to find variables' values\n",
    "solution = np.linalg.solve(B, b).astype(int)\n",
    "solution\n"
   ]
  },
  {
   "cell_type": "markdown",
   "metadata": {},
   "source": [
    "Solve linear system via Row Echelon Form (REF) and back substitution:\n",
    "\n",
    "x+2y+z = 2;   \n",
    "-x-y+2 = 3;   \n",
    "2x+3y  = 0   \n"
   ]
  },
  {
   "cell_type": "code",
   "execution_count": 2,
   "metadata": {},
   "outputs": [
    {
     "data": {
      "text/plain": [
       "array([-3,  2,  1])"
      ]
     },
     "execution_count": 2,
     "metadata": {},
     "output_type": "execute_result"
    }
   ],
   "source": [
    "import sympy as sp\n",
    "import numpy as np\n",
    "#  matrix itself\n",
    "A = sp.Matrix([\n",
    "    [1, 2, 1, 2],\n",
    "    [-1, -1, 2, 3],\n",
    "    [2, 3, 0, 0]])\n",
    "\n",
    "#saving triangle matrix\n",
    "ref_result = A.echelon_form()\n",
    "#prepare for numpy processing\n",
    "ref_numeric = np.array(ref_result).astype(float)\n",
    "\n",
    "#separate last column, we have matrix w coeffs and matrix w constants (right side of equation)\n",
    "B = ref_numeric[:, :-1]\n",
    "b = ref_numeric[:, -1]\n",
    "\n",
    "#using numpy function to apply back substitution and to find variables' values\n",
    "solution = np.linalg.solve(B, b).astype(int)\n",
    "solution\n",
    "\n"
   ]
  },
  {
   "cell_type": "markdown",
   "metadata": {},
   "source": [
    "For the following linear system, write its augmented matrix, and then perform Elementary Row Operations to obtain its Reduced Row Echelon Form (RREF)\n",
    "\n",
    "x+2y+z+a = 7;   \n",
    "x+2y+2z-a= 12;   \n",
    "2x+4y+6a = 4   \n"
   ]
  },
  {
   "cell_type": "code",
   "execution_count": 3,
   "metadata": {},
   "outputs": [
    {
     "data": {
      "text/latex": [
       "$\\displaystyle \\left[\\begin{matrix}1 & 2 & 0 & 3 & 2\\\\0 & 0 & 1 & -2 & 5\\\\0 & 0 & 0 & 0 & 0\\end{matrix}\\right]$"
      ],
      "text/plain": [
       "Matrix([\n",
       "[1, 2, 0,  3, 2],\n",
       "[0, 0, 1, -2, 5],\n",
       "[0, 0, 0,  0, 0]])"
      ]
     },
     "execution_count": 3,
     "metadata": {},
     "output_type": "execute_result"
    }
   ],
   "source": [
    "import sympy as sp\n",
    "import numpy as np\n",
    "#  matrix itself\n",
    "D = sp.Matrix([\n",
    "    [1, 2, 1, 1, 7],\n",
    "    [1, 2, 2, -1, 12],\n",
    "    [2, 4, 0, 6, 4]])\n",
    "\n",
    "#saving triangle matrix\n",
    "rref_result, pivot_columns = D.rref()\n",
    "rref_result\n"
   ]
  },
  {
   "cell_type": "markdown",
   "metadata": {},
   "source": [
    "Operations with matrices:   \n",
    "A+B,   \n",
    "A-B,   \n",
    "B+C,   \n",
    "B-C   "
   ]
  },
  {
   "cell_type": "code",
   "execution_count": 9,
   "metadata": {},
   "outputs": [],
   "source": [
    "# Matrices\n",
    "A = np.array([[1, 2, 3],[4, 5, 6]])\n",
    "B = np.array([[2, 1, 3],[9, 7, 6]])\n",
    "C = np.array([[2, 1],[3, 4]])\n"
   ]
  },
  {
   "cell_type": "code",
   "execution_count": 16,
   "metadata": {},
   "outputs": [
    {
     "data": {
      "text/plain": [
       "array([[ 3,  3,  6],\n",
       "       [13, 12, 12]])"
      ]
     },
     "execution_count": 16,
     "metadata": {},
     "output_type": "execute_result"
    }
   ],
   "source": [
    "#A+B\n",
    "R = A+B\n",
    "R"
   ]
  },
  {
   "cell_type": "code",
   "execution_count": 21,
   "metadata": {},
   "outputs": [
    {
     "data": {
      "text/plain": [
       "array([[-1,  1,  0],\n",
       "       [-5, -2,  0]])"
      ]
     },
     "execution_count": 21,
     "metadata": {},
     "output_type": "execute_result"
    }
   ],
   "source": [
    "R = 0\n",
    "#A-B\n",
    "R = A-B\n",
    "R\n",
    "\n"
   ]
  },
  {
   "cell_type": "code",
   "execution_count": 34,
   "metadata": {},
   "outputs": [
    {
     "name": "stdout",
     "output_type": "stream",
     "text": [
      "I can not calculate, wrong dimensions\n"
     ]
    }
   ],
   "source": [
    "#B-C\n",
    "def matrix_minus_matrix(B, C):\n",
    "    R = 0\n",
    "    if B.shape == C.shape:\n",
    "        R = B-C\n",
    "        return R\n",
    "    else:\n",
    "        print('I can not calculate, wrong dimensions')\n",
    "\n",
    "matrix_minus_matrix(B,C)"
   ]
  },
  {
   "cell_type": "code",
   "execution_count": 36,
   "metadata": {},
   "outputs": [
    {
     "name": "stdout",
     "output_type": "stream",
     "text": [
      "I can not calculate, wrong dimensions\n"
     ]
    }
   ],
   "source": [
    "#B+C\n",
    "def matrix_plus_matrix(B, C):\n",
    "    R = 0\n",
    "    if B.shape == C.shape:\n",
    "        R = B+C\n",
    "        return R\n",
    "    else:\n",
    "        print('I can not calculate, wrong dimensions')\n",
    "\n",
    "matrix_plus_matrix(B,C)"
   ]
  },
  {
   "cell_type": "markdown",
   "metadata": {},
   "source": [
    "For matrices A and B perform:    \n",
    "(i) `2A`   \n",
    "(ii) `A + B`   \n",
    "(iii) `2A - 3B`   \n",
    "(iv) `(2A)ᵀ - (3B)ᵀ`   \n",
    "(v) `BA`   \n"
   ]
  },
  {
   "cell_type": "code",
   "execution_count": 37,
   "metadata": {},
   "outputs": [],
   "source": [
    "A = np.array([[3, 1, 4],[-2, 0, 1],[1, 2, 2]])\n",
    "B = np.array([[1, 0, 2],[-3, 1, 1], [2, -4, 1]])"
   ]
  },
  {
   "cell_type": "code",
   "execution_count": 45,
   "metadata": {},
   "outputs": [
    {
     "name": "stdout",
     "output_type": "stream",
     "text": [
      "Result for 2A:\n",
      "[[ 6  2  8]\n",
      " [-4  0  2]\n",
      " [ 2  4  4]]\n",
      "\n",
      "Result for A + B:\n",
      "[[ 4  1  6]\n",
      " [-5  1  2]\n",
      " [ 3 -2  3]]\n",
      "\n",
      "Result for 2A - 3B:\n",
      "[[ 3  2  2]\n",
      " [ 5 -3 -1]\n",
      " [-4 16  1]]\n",
      "\n",
      "Result for (2A)ᵀ - (3B)ᵀ:\n",
      "[[ 3  5 -4]\n",
      " [ 2 -3 16]\n",
      " [ 2 -1  1]]\n",
      "\n",
      "Result for BA:\n",
      "[[  5   5   8]\n",
      " [-10  -1  -9]\n",
      " [ 15   4   6]]\n"
     ]
    }
   ],
   "source": [
    "def perform_matrix_operation(A, B, operation):\n",
    "    \"\"\"\n",
    "    Perform matrix operations based on the specified operation code.\n",
    "\n",
    "    Parameters:\n",
    "    - A (numpy.ndarray): First matrix.\n",
    "    - B (numpy.ndarray): Second matrix.\n",
    "    - operation (int): Operation code (1 to 5).\n",
    "\n",
    "    Returns:\n",
    "    - numpy.ndarray or str: Result of the matrix operation.\n",
    "    \"\"\"\n",
    "    match operation:\n",
    "        case 1:\n",
    "            return 2 * A\n",
    "        case 2:\n",
    "            return A + B\n",
    "        case 3:\n",
    "            return 2 * A - 3 * B\n",
    "        case 4:\n",
    "            return (2 * A).T - (3 * B).T\n",
    "        case 5:\n",
    "            return np.dot(B, A)\n",
    "        case _:\n",
    "            return \"I can not caclulate, check matrices, probably the problem is in their dimensions\"\n",
    "\n",
    "result_1 = perform_matrix_operation(A, B, 1)\n",
    "result_2 = perform_matrix_operation(A, B, 2)\n",
    "result_3 = perform_matrix_operation(A, B, 3)\n",
    "result_4 = perform_matrix_operation(A, B, 4)\n",
    "result_5 = perform_matrix_operation(A, B, 5)\n",
    "\n",
    "# Print the results\n",
    "print(\"Result for 2A:\")\n",
    "print(result_1)\n",
    "\n",
    "print(\"\\nResult for A + B:\")\n",
    "print(result_2)\n",
    "\n",
    "print(\"\\nResult for 2A - 3B:\")\n",
    "print(result_3)\n",
    "\n",
    "print(\"\\nResult for (2A)ᵀ - (3B)ᵀ:\")\n",
    "print(result_4)\n",
    "\n",
    "print(\"\\nResult for BA:\")\n",
    "print(result_5)\n"
   ]
  }
 ],
 "metadata": {
  "kernelspec": {
   "display_name": "pt",
   "language": "python",
   "name": "python3"
  },
  "language_info": {
   "codemirror_mode": {
    "name": "ipython",
    "version": 3
   },
   "file_extension": ".py",
   "mimetype": "text/x-python",
   "name": "python",
   "nbconvert_exporter": "python",
   "pygments_lexer": "ipython3",
   "version": "3.11.5"
  }
 },
 "nbformat": 4,
 "nbformat_minor": 2
}
