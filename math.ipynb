{
 "cells": [
  {
   "cell_type": "markdown",
   "metadata": {},
   "source": [
    "Solve linear system via Reduced Row Echelon Form (RREF) and back substitution:\n",
    "\n",
    "x+2y+z = 2;\n",
    "-x-y+2 = 3;\n",
    "2x+3y  = 0\n"
   ]
  },
  {
   "cell_type": "code",
   "execution_count": 1,
   "metadata": {},
   "outputs": [
    {
     "data": {
      "text/plain": [
       "array([-3,  2,  1])"
      ]
     },
     "execution_count": 1,
     "metadata": {},
     "output_type": "execute_result"
    }
   ],
   "source": [
    "import sympy as sp\n",
    "import numpy as np\n",
    "#  matrix itself: coeffs + right vector with constants are in the same matrix\n",
    "A = sp.Matrix([\n",
    "    [1, 2, 1, 2],\n",
    "    [-1, -1, 2, 3],\n",
    "    [2, 3, 0, 0]])\n",
    "\n",
    "#saving triangle matrix (rref)\n",
    "rref_result, pivot_columns = A.rref()\n",
    "#prepare for numpy processing\n",
    "rref_numeric = np.array(rref_result).astype(float)\n",
    "\n",
    "#separate last column, we have matrix w coeffs and matrix w constants (right side of equation)\n",
    "B = rref_numeric[:, :-1]\n",
    "b = rref_numeric[:, -1]\n",
    "\n",
    "#using numpy function to apply back substitution and to find variables' values\n",
    "solution = np.linalg.solve(B, b).astype(int)\n",
    "solution\n"
   ]
  },
  {
   "cell_type": "markdown",
   "metadata": {},
   "source": [
    "Solve linear system via Row Echelon Form (REF) and back substitution:\n",
    "\n",
    "x+2y+z = 2;\n",
    "-x-y+2 = 3;\n",
    "2x+3y  = 0\n"
   ]
  },
  {
   "cell_type": "code",
   "execution_count": 2,
   "metadata": {},
   "outputs": [
    {
     "data": {
      "text/plain": [
       "array([-3,  2,  1])"
      ]
     },
     "execution_count": 2,
     "metadata": {},
     "output_type": "execute_result"
    }
   ],
   "source": [
    "import sympy as sp\n",
    "import numpy as np\n",
    "#  matrix itself\n",
    "A = sp.Matrix([\n",
    "    [1, 2, 1, 2],\n",
    "    [-1, -1, 2, 3],\n",
    "    [2, 3, 0, 0]])\n",
    "\n",
    "#saving triangle matrix\n",
    "ref_result = A.echelon_form()\n",
    "#prepare for numpy processing\n",
    "ref_numeric = np.array(ref_result).astype(float)\n",
    "\n",
    "#separate last column, we have matrix w coeffs and matrix w constants (right side of equation)\n",
    "B = ref_numeric[:, :-1]\n",
    "b = ref_numeric[:, -1]\n",
    "\n",
    "#using numpy function to apply back substitution and to find variables' values\n",
    "solution = np.linalg.solve(B, b).astype(int)\n",
    "solution\n",
    "\n"
   ]
  },
  {
   "cell_type": "markdown",
   "metadata": {},
   "source": [
    "For the following linear system, write its augmented matrix, and then perform Elementary Row Operations to obtain its Reduced Row Echelon Form (RREF)\n",
    "\n",
    "x+2y+z+a = 7;\n",
    "x+2y+2z-a= 12;\n",
    "2x+4y+6a = 4\n"
   ]
  },
  {
   "cell_type": "code",
   "execution_count": 3,
   "metadata": {},
   "outputs": [
    {
     "data": {
      "text/latex": [
       "$\\displaystyle \\left[\\begin{matrix}1 & 2 & 0 & 3 & 2\\\\0 & 0 & 1 & -2 & 5\\\\0 & 0 & 0 & 0 & 0\\end{matrix}\\right]$"
      ],
      "text/plain": [
       "Matrix([\n",
       "[1, 2, 0,  3, 2],\n",
       "[0, 0, 1, -2, 5],\n",
       "[0, 0, 0,  0, 0]])"
      ]
     },
     "execution_count": 3,
     "metadata": {},
     "output_type": "execute_result"
    }
   ],
   "source": [
    "import sympy as sp\n",
    "import numpy as np\n",
    "#  matrix itself\n",
    "D = sp.Matrix([\n",
    "    [1, 2, 1, 1, 7],\n",
    "    [1, 2, 2, -1, 12],\n",
    "    [2, 4, 0, 6, 4]])\n",
    "\n",
    "#saving triangle matrix\n",
    "rref_result, pivot_columns = D.rref()\n",
    "rref_result\n"
   ]
  }
 ],
 "metadata": {
  "kernelspec": {
   "display_name": "pt",
   "language": "python",
   "name": "python3"
  },
  "language_info": {
   "codemirror_mode": {
    "name": "ipython",
    "version": 3
   },
   "file_extension": ".py",
   "mimetype": "text/x-python",
   "name": "python",
   "nbconvert_exporter": "python",
   "pygments_lexer": "ipython3",
   "version": "3.11.5"
  }
 },
 "nbformat": 4,
 "nbformat_minor": 2
}
